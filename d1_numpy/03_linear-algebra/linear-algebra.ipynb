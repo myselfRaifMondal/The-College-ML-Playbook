{
 "cells": [
  {
   "cell_type": "markdown",
   "id": "15f3ef4f-7e01-481e-b495-b7ac600a95a2",
   "metadata": {},
   "source": [
    "# 3.1 Dot Product of Vectors\n",
    "**Problem**: How to compute the dot product of two vectors?\n",
    "**Explanation**:\n",
    "The dot product is the sum of element-wise multiplications:\n",
    "$$a.b = \\sum_{i=1}^{n}a_ib_i$$\n",
    "It is used in ML for similarity checks and projections."
   ]
  },
  {
   "cell_type": "code",
   "execution_count": 1,
   "id": "c0d9b09c-b581-4ebc-a03f-1faea8c80d50",
   "metadata": {},
   "outputs": [],
   "source": [
    "import numpy as np"
   ]
  },
  {
   "cell_type": "code",
   "execution_count": 3,
   "id": "f7648e8e-b0b5-4bc2-9af5-67554ab659a9",
   "metadata": {},
   "outputs": [],
   "source": [
    "a = np.array([1, 2, 3])\n",
    "b = np.array([4, 5, 6])"
   ]
  },
  {
   "cell_type": "code",
   "execution_count": 4,
   "id": "fe48a57f-0bbd-448d-a835-6c294eec5eaf",
   "metadata": {},
   "outputs": [
    {
     "name": "stdout",
     "output_type": "stream",
     "text": [
      "Dot product: 32\n"
     ]
    }
   ],
   "source": [
    "dot = np.dot(a, b)\n",
    "print(\"Dot product:\", dot)"
   ]
  },
  {
   "cell_type": "markdown",
   "id": "8b668156-06d3-4997-91ce-9a5f90f1c669",
   "metadata": {},
   "source": [
    "# 3.2 Matrix Multiplication\n",
    "**Problem**: How to multiply matrices?\n",
    "\n",
    "**Explanation**:\n",
    "Matrix multiplication combines rows and columns. In ML, this is how inputs get transformed by weights."
   ]
  },
  {
   "cell_type": "code",
   "execution_count": 5,
   "id": "c277120e-083a-45dc-bc88-66a973e64468",
   "metadata": {},
   "outputs": [],
   "source": [
    "A = np.array([[1, 2], [3, 4]])\n",
    "B = np.array([[5, 6], [7, 8]])"
   ]
  },
  {
   "cell_type": "code",
   "execution_count": 6,
   "id": "ea7157c6-bd42-4529-b409-782ea8af464d",
   "metadata": {},
   "outputs": [
    {
     "name": "stdout",
     "output_type": "stream",
     "text": [
      "Matrix product:\n",
      " [[19 22]\n",
      " [43 50]]\n",
      "Matrix product (np.dot):\n",
      " [[19 22]\n",
      " [43 50]]\n"
     ]
    }
   ],
   "source": [
    "print(\"Matrix product:\\n\", A @ B)      # Using @ operator\n",
    "print(\"Matrix product (np.dot):\\n\", np.dot(A, B))"
   ]
  },
  {
   "cell_type": "markdown",
   "id": "835e12b5-dbd9-4bbb-80ff-bd293bc95832",
   "metadata": {},
   "source": [
    "# 3.3 Transpose & Inverse\n",
    "**Problem**: How to find the transpose and inverse of a matrix?\n",
    "\n",
    "**Explanation**:\n",
    "\n",
    "- **Transpose**: flips rows ↔ columns.\n",
    "- **Inverse**: like dividing by a matrix.\n",
    "\n",
    "(Only square, non-singular matrices have an inverse)."
   ]
  },
  {
   "cell_type": "code",
   "execution_count": 7,
   "id": "eae96497-edcc-4257-a048-bc7b9e915036",
   "metadata": {},
   "outputs": [],
   "source": [
    "M = np.array([[1, 2], [3, 4]])"
   ]
  },
  {
   "cell_type": "code",
   "execution_count": 8,
   "id": "a30a2886-f9e5-40ac-a360-6ffeed5daacc",
   "metadata": {},
   "outputs": [
    {
     "name": "stdout",
     "output_type": "stream",
     "text": [
      "Transpose:\n",
      " [[1 3]\n",
      " [2 4]]\n",
      "Inverse:\n",
      " [[-2.   1. ]\n",
      " [ 1.5 -0.5]]\n"
     ]
    }
   ],
   "source": [
    "print(\"Transpose:\\n\", M.T)\n",
    "print(\"Inverse:\\n\", np.linalg.inv(M))"
   ]
  },
  {
   "cell_type": "markdown",
   "id": "b10a4f64-4479-4f6a-bd2a-3fff36f6b80b",
   "metadata": {},
   "source": [
    "# 3.4 Determinant of a Matrix\n",
    "**Problem**: How to compute a determinant?\n",
    "\n",
    "**Explanation**:\n",
    "The determinant tells us if a matrix is invertible and encodes information about scaling."
   ]
  },
  {
   "cell_type": "code",
   "execution_count": 9,
   "id": "69bac0e3-2e51-4da8-92cf-3a8d69d5cc81",
   "metadata": {},
   "outputs": [],
   "source": [
    "M = np.array([[1, 2], [3, 4]])"
   ]
  },
  {
   "cell_type": "code",
   "execution_count": 10,
   "id": "c6a50641-9927-47f7-9190-2ad4902b4f19",
   "metadata": {},
   "outputs": [
    {
     "name": "stdout",
     "output_type": "stream",
     "text": [
      "Determinant: -2.0000000000000004\n"
     ]
    }
   ],
   "source": [
    "det = np.linalg.det(M)\n",
    "print(\"Determinant:\", det)"
   ]
  },
  {
   "cell_type": "markdown",
   "id": "1338d100-55ef-41de-a509-f8d2e8ea2709",
   "metadata": {},
   "source": [
    "# 3.5 Eigenvalues & Eigenvectors\n",
    "**Problem**: How to compute eigenvalues and eigenvectors?\n",
    "\n",
    "**Explanation**:\n",
    "Eigenvalues & eigenvectors are fundamental in ML for PCA (dimensionality reduction).\n",
    "\n",
    "$$Av = \\lambda v$$"
   ]
  },
  {
   "cell_type": "code",
   "execution_count": 11,
   "id": "a7bc16cd-c2cf-455c-ba1d-de5515a0faf3",
   "metadata": {},
   "outputs": [],
   "source": [
    "M = np.array([[4, -2], \n",
    "              [1,  1]])"
   ]
  },
  {
   "cell_type": "code",
   "execution_count": 12,
   "id": "ea9dab16-6f19-4e85-a61d-b3ea35a328e7",
   "metadata": {},
   "outputs": [],
   "source": [
    "eigvals, eigvecs = np.linalg.eig(M)"
   ]
  },
  {
   "cell_type": "code",
   "execution_count": 13,
   "id": "cd772c98-dbd0-46e2-958f-2631aab5de2e",
   "metadata": {},
   "outputs": [
    {
     "name": "stdout",
     "output_type": "stream",
     "text": [
      "Eigenvalues: [3. 2.]\n",
      "Eigenvectors:\n",
      " [[0.89442719 0.70710678]\n",
      " [0.4472136  0.70710678]]\n"
     ]
    }
   ],
   "source": [
    "print(\"Eigenvalues:\", eigvals)\n",
    "print(\"Eigenvectors:\\n\", eigvecs)"
   ]
  },
  {
   "cell_type": "markdown",
   "id": "51e41a46-4d43-4b0b-99f0-1ad8fa08800e",
   "metadata": {},
   "source": [
    "# 3.6 Solving Linear Equations\n",
    "\n",
    "**Problem**: How to solve a system of equations $Ax = b$?\n",
    "\n",
    "**Explanation**:\n",
    "Instead of manually inverting matrices, NumPy provides `np.linalg.solve`.\n",
    "Example system:\n",
    "$$2x + y = 5$$\n",
    "$$x-y = 1$$"
   ]
  },
  {
   "cell_type": "code",
   "execution_count": 14,
   "id": "8134c92e-5084-4f43-b385-d4d046f955c8",
   "metadata": {},
   "outputs": [],
   "source": [
    "A = np.array([[2, 1], [1, -1]])\n",
    "b = np.array([5, 1])"
   ]
  },
  {
   "cell_type": "code",
   "execution_count": 15,
   "id": "59654186-fa66-4ce4-9f47-790fc9b926d1",
   "metadata": {},
   "outputs": [
    {
     "name": "stdout",
     "output_type": "stream",
     "text": [
      "Solution: [2. 1.]\n"
     ]
    }
   ],
   "source": [
    "solution = np.linalg.solve(A, b)\n",
    "print(\"Solution:\", solution)"
   ]
  },
  {
   "cell_type": "markdown",
   "id": "57bc44c7-6edc-4f58-b6dd-1fa5be5e26a8",
   "metadata": {},
   "source": [
    "# 3.7 Rank of a Matrix\n",
    "**Problem**: How to check the rank of a matrix?\n",
    "\n",
    "**Explanation**:\n",
    "Rank tells us the number of linearly independent rows/columns. In ML, it determines feature redundancy.\n"
   ]
  },
  {
   "cell_type": "code",
   "execution_count": 16,
   "id": "6423ea1d-fdc2-4cea-bb70-469a65ce3572",
   "metadata": {},
   "outputs": [],
   "source": [
    "M = np.array([[1, 2, 3],\n",
    "              [4, 5, 6],\n",
    "              [7, 8, 9]])"
   ]
  },
  {
   "cell_type": "code",
   "execution_count": 17,
   "id": "ddfad9c9-86ca-45be-bf70-20d690753ec7",
   "metadata": {},
   "outputs": [
    {
     "name": "stdout",
     "output_type": "stream",
     "text": [
      "Rank: 2\n"
     ]
    }
   ],
   "source": [
    "rank = np.linalg.matrix_rank(M)\n",
    "print(\"Rank:\", rank)"
   ]
  },
  {
   "cell_type": "markdown",
   "id": "049120e3-5b20-4af4-b2a4-1b55a5674444",
   "metadata": {},
   "source": [
    "# 3.8 Orthogonality Check\n",
    "**Problem**: How to check if two vectors are orthogonal?\n",
    "\n",
    "**Explanation**:\n",
    "Two vectors are orthogonal if their dot product = 0."
   ]
  },
  {
   "cell_type": "code",
   "execution_count": 18,
   "id": "55653339-834c-47b4-97e7-6ef653f182c7",
   "metadata": {},
   "outputs": [],
   "source": [
    "u = np.array([1, 0])\n",
    "v = np.array([0, 1])"
   ]
  },
  {
   "cell_type": "code",
   "execution_count": 19,
   "id": "7f622e2d-2cbc-41c8-a40e-38bf891b6d76",
   "metadata": {},
   "outputs": [
    {
     "name": "stdout",
     "output_type": "stream",
     "text": [
      "Dot product: 0\n"
     ]
    }
   ],
   "source": [
    "print(\"Dot product:\", np.dot(u, v))"
   ]
  }
 ],
 "metadata": {
  "kernelspec": {
   "display_name": "Python 3 (ipykernel)",
   "language": "python",
   "name": "python3"
  },
  "language_info": {
   "codemirror_mode": {
    "name": "ipython",
    "version": 3
   },
   "file_extension": ".py",
   "mimetype": "text/x-python",
   "name": "python",
   "nbconvert_exporter": "python",
   "pygments_lexer": "ipython3",
   "version": "3.13.7"
  }
 },
 "nbformat": 4,
 "nbformat_minor": 5
}
