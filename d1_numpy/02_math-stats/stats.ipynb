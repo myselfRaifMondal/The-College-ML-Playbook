{
 "cells": [
  {
   "cell_type": "markdown",
   "id": "9382ccbd-064e-4912-8739-371538645eb1",
   "metadata": {},
   "source": [
    "# 2.1 Vectorized Arithmetic\n",
    "**Problem**: How to perform element-wise arithmetic on arrays?\n",
    "\n",
    "**Explanation**: Instead of writing loops, NumPy lets you add, subtract, multiply, or divide arrays directly. Operations happen element by element."
   ]
  },
  {
   "cell_type": "code",
   "execution_count": 1,
   "id": "c609ded2-0902-436d-b20e-25078983a49b",
   "metadata": {},
   "outputs": [],
   "source": [
    "import numpy as np"
   ]
  },
  {
   "cell_type": "code",
   "execution_count": 2,
   "id": "eda7c05e-951c-4291-a71c-23432d5a2f80",
   "metadata": {},
   "outputs": [],
   "source": [
    "a = np.array([1, 2, 3, 4])\n",
    "b = np.array([10, 20, 30, 40])"
   ]
  },
  {
   "cell_type": "code",
   "execution_count": 3,
   "id": "b8f64c11-a1f9-45c9-808e-ed6d4d1f3253",
   "metadata": {},
   "outputs": [
    {
     "name": "stdout",
     "output_type": "stream",
     "text": [
      "Addition: [11 22 33 44]\n"
     ]
    }
   ],
   "source": [
    "print(\"Addition:\", a + b)"
   ]
  },
  {
   "cell_type": "code",
   "execution_count": 4,
   "id": "5d66b41c-a3a5-4430-b9d6-9c6c333b6b85",
   "metadata": {},
   "outputs": [
    {
     "name": "stdout",
     "output_type": "stream",
     "text": [
      "Subtraction: [ 9 18 27 36]\n"
     ]
    }
   ],
   "source": [
    "print(\"Subtraction:\", b - a)"
   ]
  },
  {
   "cell_type": "code",
   "execution_count": 5,
   "id": "5f361a02-7724-42ef-a2ee-783cf65b0cc4",
   "metadata": {},
   "outputs": [
    {
     "name": "stdout",
     "output_type": "stream",
     "text": [
      "Multiplication: [ 10  40  90 160]\n"
     ]
    }
   ],
   "source": [
    "print(\"Multiplication:\", a * b)"
   ]
  },
  {
   "cell_type": "code",
   "execution_count": 6,
   "id": "c0fb0735-db29-48df-812a-2b71777d43d3",
   "metadata": {},
   "outputs": [
    {
     "name": "stdout",
     "output_type": "stream",
     "text": [
      "Division: [10. 10. 10. 10.]\n"
     ]
    }
   ],
   "source": [
    "print(\"Division:\", b / a)"
   ]
  },
  {
   "cell_type": "code",
   "execution_count": 7,
   "id": "f814a501-4c44-4c33-b176-38efe8190556",
   "metadata": {},
   "outputs": [
    {
     "name": "stdout",
     "output_type": "stream",
     "text": [
      "Power: [ 1  4  9 16]\n"
     ]
    }
   ],
   "source": [
    "print(\"Power:\", a ** 2)"
   ]
  },
  {
   "cell_type": "code",
   "execution_count": 8,
   "id": "60f48167-dbb2-41b9-a468-e58e51054570",
   "metadata": {},
   "outputs": [
    {
     "name": "stdout",
     "output_type": "stream",
     "text": [
      "Square root: [3.16227766 4.47213595 5.47722558 6.32455532]\n"
     ]
    }
   ],
   "source": [
    "print(\"Square root:\", np.sqrt(b))"
   ]
  },
  {
   "cell_type": "markdown",
   "id": "10ef418e-d95e-4908-b6f3-a35bbefb46e5",
   "metadata": {},
   "source": [
    "# 2.2 Aggregate Functions\n",
    "**Problem**: How to summarize values in an array?\n",
    "\n",
    "**Explanation**: We often need summary statistics like mean, variance, std deviation for datasets. NumPy provides fast built-in functions."
   ]
  },
  {
   "cell_type": "code",
   "execution_count": 9,
   "id": "dc081364-a7f7-4059-9493-89ac1a4b126c",
   "metadata": {},
   "outputs": [],
   "source": [
    "arr = np.array([10, 20, 30, 40, 50])"
   ]
  },
  {
   "cell_type": "code",
   "execution_count": 10,
   "id": "9654e8f5-c6bf-4d54-b745-4cfaf41b050d",
   "metadata": {},
   "outputs": [
    {
     "name": "stdout",
     "output_type": "stream",
     "text": [
      "Sum: 150\n"
     ]
    }
   ],
   "source": [
    "print(\"Sum:\", np.sum(arr))"
   ]
  },
  {
   "cell_type": "code",
   "execution_count": 11,
   "id": "599b0500-c3a8-4ce3-95b7-8c80f07dbd17",
   "metadata": {},
   "outputs": [
    {
     "name": "stdout",
     "output_type": "stream",
     "text": [
      "Mean: 30.0\n"
     ]
    }
   ],
   "source": [
    "print(\"Mean:\", np.mean(arr))"
   ]
  },
  {
   "cell_type": "code",
   "execution_count": 12,
   "id": "5f92e1ff-bd6c-4c1d-b0b7-9c1558315206",
   "metadata": {},
   "outputs": [
    {
     "name": "stdout",
     "output_type": "stream",
     "text": [
      "Standard Deviation: 14.142135623730951\n"
     ]
    }
   ],
   "source": [
    "print(\"Standard Deviation:\", np.std(arr))"
   ]
  },
  {
   "cell_type": "code",
   "execution_count": 13,
   "id": "28fa3e50-8a6a-4304-b561-ce2f0a152897",
   "metadata": {},
   "outputs": [
    {
     "name": "stdout",
     "output_type": "stream",
     "text": [
      "Variance: 200.0\n"
     ]
    }
   ],
   "source": [
    "print(\"Variance:\", np.var(arr))"
   ]
  },
  {
   "cell_type": "code",
   "execution_count": 14,
   "id": "efba8e87-2b3f-439c-af6b-415d4ed079e1",
   "metadata": {},
   "outputs": [
    {
     "name": "stdout",
     "output_type": "stream",
     "text": [
      "Minimum: 10\n"
     ]
    }
   ],
   "source": [
    "print(\"Minimum:\", np.min(arr))"
   ]
  },
  {
   "cell_type": "code",
   "execution_count": 15,
   "id": "0ac67667-9f5b-4d9c-85b3-1c3ed620eace",
   "metadata": {},
   "outputs": [
    {
     "name": "stdout",
     "output_type": "stream",
     "text": [
      "Maximum: 50\n"
     ]
    }
   ],
   "source": [
    "print(\"Maximum:\", np.max(arr))"
   ]
  },
  {
   "cell_type": "code",
   "execution_count": 16,
   "id": "6a66a818-7331-429c-afe5-6728d8e70d3b",
   "metadata": {},
   "outputs": [
    {
     "name": "stdout",
     "output_type": "stream",
     "text": [
      "Index of Min: 0\n"
     ]
    }
   ],
   "source": [
    "print(\"Index of Min:\", np.argmin(arr))"
   ]
  },
  {
   "cell_type": "code",
   "execution_count": 17,
   "id": "fd4ff95b-b56a-464a-9336-b38df27c0a26",
   "metadata": {},
   "outputs": [
    {
     "name": "stdout",
     "output_type": "stream",
     "text": [
      "Index of Max: 4\n"
     ]
    }
   ],
   "source": [
    "print(\"Index of Max:\", np.argmax(arr))"
   ]
  },
  {
   "cell_type": "markdown",
   "id": "260086a7-d24c-428f-94b6-47b3077e0580",
   "metadata": {},
   "source": [
    "# 2.3 Axis-wise Operations\n",
    "**Problem**: How to compute row-wise or column-wise statistics?\n",
    "\n",
    "**Explanation**: ML datasets are often stored as 2D arrays (rows = samples, columns = features). NumPy lets us compute statistics along axes:\n",
    "\n",
    "- `axis=0` → column-wise\n",
    "- `axis=1` → row-wise"
   ]
  },
  {
   "cell_type": "code",
   "execution_count": 19,
   "id": "60ecf248-0237-4707-9239-49cd11cc7c73",
   "metadata": {},
   "outputs": [],
   "source": [
    "arr = np.array([[1, 2, 3],\n",
    "                [4, 5, 6],\n",
    "                [7, 8, 9]])"
   ]
  },
  {
   "cell_type": "code",
   "execution_count": 20,
   "id": "0be7a523-faee-455f-a2b9-e80e7ad5988b",
   "metadata": {},
   "outputs": [
    {
     "name": "stdout",
     "output_type": "stream",
     "text": [
      "Column-wise sum: [12 15 18]\n"
     ]
    }
   ],
   "source": [
    "print(\"Column-wise sum:\", np.sum(arr, axis=0))"
   ]
  },
  {
   "cell_type": "code",
   "execution_count": 21,
   "id": "2ec98cbc-a5d9-446d-a3b0-e86afe776361",
   "metadata": {},
   "outputs": [
    {
     "name": "stdout",
     "output_type": "stream",
     "text": [
      "Row-wise mean: [2. 5. 8.]\n"
     ]
    }
   ],
   "source": [
    "print(\"Row-wise mean:\", np.mean(arr, axis=1))"
   ]
  },
  {
   "cell_type": "markdown",
   "id": "aa9bc98f-e660-4272-9540-58d9d13c5841",
   "metadata": {},
   "source": [
    "# 2.4 Normalization (Standardization)\n",
    "**Problem**: How do we scale data to have mean=0 and std=1?\n",
    "\n",
    "**Explanation**: ML models like linear regression, SVM, neural networks often perform better when features are standardized.\n",
    "\n",
    "**Formula**:\n",
    "$$x_{scaled}=\\frac{x-\\mu}{\\alpha}$$"
   ]
  },
  {
   "cell_type": "code",
   "execution_count": 22,
   "id": "da2ea472-c6b1-4681-9cfd-b60706231ce0",
   "metadata": {},
   "outputs": [],
   "source": [
    "data = np.array([10, 20, 30, 40, 50])"
   ]
  },
  {
   "cell_type": "code",
   "execution_count": 23,
   "id": "92ee3e5a-56da-439c-8756-34d53d87aa47",
   "metadata": {},
   "outputs": [],
   "source": [
    "mean = np.mean(data)\n",
    "std = np.std(data)"
   ]
  },
  {
   "cell_type": "code",
   "execution_count": 24,
   "id": "3711626a-e9da-4e10-a2fa-2061044274a9",
   "metadata": {},
   "outputs": [],
   "source": [
    "normalized = (data - mean) / std"
   ]
  },
  {
   "cell_type": "code",
   "execution_count": 25,
   "id": "39dacf7f-e43c-42af-8ccd-42e6f55f4973",
   "metadata": {},
   "outputs": [
    {
     "name": "stdout",
     "output_type": "stream",
     "text": [
      "Normalized data: [-1.41421356 -0.70710678  0.          0.70710678  1.41421356]\n"
     ]
    }
   ],
   "source": [
    "print(\"Normalized data:\", normalized)"
   ]
  },
  {
   "cell_type": "markdown",
   "id": "53b74c72-60c0-4e7a-b5ff-36060488dc32",
   "metadata": {},
   "source": [
    "# 2.5 Min-Max Scaling\n",
    "**Problem**: How to scale data to range [0, 1]?\n",
    "\n",
    "**Explanation**: Some algorithms (e.g. KNN, Neural Nets) prefer features scaled to a fixed range.\n",
    "\n",
    "**Formula**:\n",
    "$$x_{scaled}=\\frac{x-x_{min}}{x_{max} - x_{min}}$$"
   ]
  },
  {
   "cell_type": "code",
   "execution_count": 26,
   "id": "5523fcc7-457c-46be-a1cc-ecf561160bf7",
   "metadata": {},
   "outputs": [],
   "source": [
    "data = np.array([5, 10, 15, 20, 25])"
   ]
  },
  {
   "cell_type": "code",
   "execution_count": 27,
   "id": "177c36a5-cffc-4fdb-987f-656c05f7b38e",
   "metadata": {},
   "outputs": [],
   "source": [
    "min_val = np.min(data)\n",
    "max_val = np.max(data)"
   ]
  },
  {
   "cell_type": "code",
   "execution_count": 28,
   "id": "46846850-59e8-47f2-910c-b84d1a62d977",
   "metadata": {},
   "outputs": [],
   "source": [
    "scaled = (data - min_val) / (max_val - min_val)"
   ]
  },
  {
   "cell_type": "code",
   "execution_count": 29,
   "id": "c488e05b-9afd-4f54-9ca9-bb5a4efc9362",
   "metadata": {},
   "outputs": [
    {
     "name": "stdout",
     "output_type": "stream",
     "text": [
      "Min-Max Scaled: [0.   0.25 0.5  0.75 1.  ]\n"
     ]
    }
   ],
   "source": [
    "print(\"Min-Max Scaled:\", scaled)"
   ]
  },
  {
   "cell_type": "markdown",
   "id": "735afd58-d4df-4114-9c7f-b0ef735ddd1a",
   "metadata": {},
   "source": [
    "# 2.6 Applying Mathematical Functions\n",
    "**Problem**: How to apply functions like log, exp, trigonometry?\n",
    "\n",
    "**Explanation**: NumPy provides universal functions (ufuncs) that apply element-wise efficiently."
   ]
  },
  {
   "cell_type": "markdown",
   "id": "35cd34c1-f009-4c37-a432-8e5817beaa57",
   "metadata": {},
   "source": [
    "# 2.6 Applying Mathematical Functions\n",
    "**Problem**: How to apply functions like log, exp, trigonometry?\n",
    "\n",
    "**Explanation**: NumPy provides universal functions (ufuncs) that apply element-wise efficiently."
   ]
  },
  {
   "cell_type": "code",
   "execution_count": 34,
   "id": "f715b853-0994-4e1f-8fb4-ca44c2fcf6b3",
   "metadata": {},
   "outputs": [],
   "source": [
    "arr = np.array([1, 2, 3, 4, 5])"
   ]
  },
  {
   "cell_type": "code",
   "execution_count": 35,
   "id": "27887bf2-466b-43fd-a206-536af0524e38",
   "metadata": {},
   "outputs": [
    {
     "name": "stdout",
     "output_type": "stream",
     "text": [
      "Exponential: [  2.71828183   7.3890561   20.08553692  54.59815003 148.4131591 ]\n"
     ]
    }
   ],
   "source": [
    "print(\"Exponential:\", np.exp(arr))"
   ]
  },
  {
   "cell_type": "code",
   "execution_count": 36,
   "id": "a7e45367-a97c-4bd1-911e-9b92d670813b",
   "metadata": {},
   "outputs": [
    {
     "name": "stdout",
     "output_type": "stream",
     "text": [
      "Logarithm: [0.         0.69314718 1.09861229 1.38629436 1.60943791]\n"
     ]
    }
   ],
   "source": [
    "print(\"Logarithm:\", np.log(arr))"
   ]
  },
  {
   "cell_type": "code",
   "execution_count": 37,
   "id": "b07e132a-5712-4b48-9c44-7a662d9b368d",
   "metadata": {},
   "outputs": [
    {
     "name": "stdout",
     "output_type": "stream",
     "text": [
      "Sine: [ 0.84147098  0.90929743  0.14112001 -0.7568025  -0.95892427]\n"
     ]
    }
   ],
   "source": [
    "print(\"Sine:\", np.sin(arr))"
   ]
  },
  {
   "cell_type": "code",
   "execution_count": 38,
   "id": "30e88e92-ca24-40b2-ac49-de4aad2f84ce",
   "metadata": {},
   "outputs": [
    {
     "name": "stdout",
     "output_type": "stream",
     "text": [
      "Cosine: [ 0.54030231 -0.41614684 -0.9899925  -0.65364362  0.28366219]\n"
     ]
    }
   ],
   "source": [
    "print(\"Cosine:\", np.cos(arr))"
   ]
  }
 ],
 "metadata": {
  "kernelspec": {
   "display_name": "Python 3 (ipykernel)",
   "language": "python",
   "name": "python3"
  },
  "language_info": {
   "codemirror_mode": {
    "name": "ipython",
    "version": 3
   },
   "file_extension": ".py",
   "mimetype": "text/x-python",
   "name": "python",
   "nbconvert_exporter": "python",
   "pygments_lexer": "ipython3",
   "version": "3.13.7"
  }
 },
 "nbformat": 4,
 "nbformat_minor": 5
}
