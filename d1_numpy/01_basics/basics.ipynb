{
 "cells": [
  {
   "cell_type": "markdown",
   "id": "fba41904-d5c5-400b-9ba7-f30513983fc5",
   "metadata": {},
   "source": [
    "# 1.1 Creating Arrays\n",
    "**Problem**: How do we create NumPy arrays from lists or directly using NumPy functions?\n",
    "\n",
    "**Explanation**: A NumPy array is like a super-powered Python list that supports vectorized operations (fast calculations without loops). You can create arrays from Python lists or with NumPy functions like `np.zeros`, `np.arange`, etc."
   ]
  },
  {
   "cell_type": "code",
   "execution_count": 1,
   "id": "f52451ec-8c7b-46bd-8410-0ab18e418db9",
   "metadata": {},
   "outputs": [],
   "source": [
    "import numpy as np"
   ]
  },
  {
   "cell_type": "code",
   "execution_count": 2,
   "id": "407ae5f9-ec5e-42a3-9c73-12857da55fe7",
   "metadata": {},
   "outputs": [
    {
     "name": "stdout",
     "output_type": "stream",
     "text": [
      "Array from list:  [1 2 3 4 5]\n"
     ]
    }
   ],
   "source": [
    "arr1 = np.array([1, 2, 3, 4, 5])\n",
    "print(\"Array from list: \", arr1)"
   ]
  },
  {
   "cell_type": "code",
   "execution_count": 3,
   "id": "ed4a471d-1786-4251-9f1b-99ad0916c738",
   "metadata": {},
   "outputs": [
    {
     "name": "stdout",
     "output_type": "stream",
     "text": [
      "2D Array:\n",
      " [[1 2 3]\n",
      " [4 5 6]]\n"
     ]
    }
   ],
   "source": [
    "arr2 = np.array([[1, 2, 3], [4, 5, 6]])\n",
    "print(\"2D Array:\\n\", arr2)"
   ]
  },
  {
   "cell_type": "code",
   "execution_count": 4,
   "id": "551f0101-ed06-4a03-a307-0a1e569237d8",
   "metadata": {},
   "outputs": [
    {
     "name": "stdout",
     "output_type": "stream",
     "text": [
      "Zeros:\n",
      " [[0. 0. 0.]\n",
      " [0. 0. 0.]]\n"
     ]
    }
   ],
   "source": [
    "zeros = np.zeros((2, 3))\n",
    "print(\"Zeros:\\n\", zeros)"
   ]
  },
  {
   "cell_type": "code",
   "execution_count": 5,
   "id": "fb2fa675-ba2a-43fe-ba67-c5ff9ca694a4",
   "metadata": {},
   "outputs": [
    {
     "name": "stdout",
     "output_type": "stream",
     "text": [
      "Ones:\n",
      " [[1. 1. 1.]\n",
      " [1. 1. 1.]\n",
      " [1. 1. 1.]]\n"
     ]
    }
   ],
   "source": [
    "ones = np.ones((3, 3))\n",
    "print(\"Ones:\\n\", ones)"
   ]
  },
  {
   "cell_type": "code",
   "execution_count": 6,
   "id": "31dbb246-826b-4b3f-aea1-d6613ed2a50e",
   "metadata": {},
   "outputs": [
    {
     "name": "stdout",
     "output_type": "stream",
     "text": [
      "Indentity Matrix:\n",
      " [[1. 0. 0.]\n",
      " [0. 1. 0.]\n",
      " [0. 0. 1.]]\n"
     ]
    }
   ],
   "source": [
    "identity = np.eye(3)\n",
    "print(\"Indentity Matrix:\\n\", identity)"
   ]
  },
  {
   "cell_type": "code",
   "execution_count": 7,
   "id": "f01f0411-259a-4ecd-b617-dddafb328699",
   "metadata": {},
   "outputs": [
    {
     "name": "stdout",
     "output_type": "stream",
     "text": [
      "Random Array:\n",
      " [[0.74247144 0.71092681]\n",
      " [0.9136465  0.87395103]]\n"
     ]
    }
   ],
   "source": [
    "rand = np.random.rand(2, 2)\n",
    "print(\"Random Array:\\n\", rand)"
   ]
  },
  {
   "cell_type": "markdown",
   "id": "f1ce8d3d-4326-49d9-8f21-f8f439b68371",
   "metadata": {},
   "source": [
    "# 1.2 Array Attributes\n",
    "**Problem**: How do we check array properties (shape, size, datatype)?\n",
    "\n",
    "**Explanation**: In ML tasks, knowing the shape of arrays is critical (e.g., features vs samples). NumPy gives us quick ways to inspect arrays."
   ]
  },
  {
   "cell_type": "code",
   "execution_count": 9,
   "id": "642621c5-6bc9-4884-8066-eb3e424e11a6",
   "metadata": {},
   "outputs": [
    {
     "name": "stdout",
     "output_type": "stream",
     "text": [
      "Shape:  (2, 3)\n",
      "Size:  6\n",
      "Data Type:  int64\n",
      "Number of elements:  2\n"
     ]
    }
   ],
   "source": [
    "arr = np.array([[1, 2, 3], [4, 5, 6]])\n",
    "print(\"Shape: \", arr.shape) # (rows, columns)\n",
    "print(\"Size: \", arr.size) #(total elements)\n",
    "print(\"Data Type: \", arr.dtype)\n",
    "print(\"Number of elements: \", arr.ndim) # Dimentions"
   ]
  },
  {
   "cell_type": "markdown",
   "id": "b2e2b2b2-553c-4d9f-9a69-eedf4a91ba7e",
   "metadata": {},
   "source": [
    "# 1.3 Reshape, Flatten, Transpose\n",
    "**Problem**: How do we change array shapes?\n",
    "\n",
    "**Explanation**: Data often comes in different formats (rows, columns, images). Reshaping is essential\n",
    "\n",
    "- `reshape`: change dimensions\n",
    "- `flatten`: convert to 1D\n",
    "- `transpose`: swap rows & columns "
   ]
  },
  {
   "cell_type": "code",
   "execution_count": 10,
   "id": "8a5ba815-93a2-41e2-86ae-dd719353ab8b",
   "metadata": {},
   "outputs": [
    {
     "name": "stdout",
     "output_type": "stream",
     "text": [
      "Original:  [ 0  1  2  3  4  5  6  7  8  9 10 11]\n"
     ]
    }
   ],
   "source": [
    "arr = np.arange(12)\n",
    "print(\"Original: \", arr)"
   ]
  },
  {
   "cell_type": "code",
   "execution_count": 11,
   "id": "acec913c-9bf3-4dc7-a173-88f4d3a2b8b5",
   "metadata": {},
   "outputs": [
    {
     "name": "stdout",
     "output_type": "stream",
     "text": [
      "Reshaped (3x4):\n",
      " [[ 0  1  2  3]\n",
      " [ 4  5  6  7]\n",
      " [ 8  9 10 11]]\n"
     ]
    }
   ],
   "source": [
    "reshaped = arr.reshape(3, 4)\n",
    "print(\"Reshaped (3x4):\\n\", reshaped)"
   ]
  },
  {
   "cell_type": "code",
   "execution_count": 12,
   "id": "5e53b827-81a2-48a5-8aac-13c6b72b5731",
   "metadata": {},
   "outputs": [
    {
     "name": "stdout",
     "output_type": "stream",
     "text": [
      "Flattened:  [ 0  1  2  3  4  5  6  7  8  9 10 11]\n"
     ]
    }
   ],
   "source": [
    "flattened = reshaped.flatten()\n",
    "print(\"Flattened: \", flattened)"
   ]
  },
  {
   "cell_type": "code",
   "execution_count": 13,
   "id": "b1f67a62-cdbc-41b7-b155-747a2298d214",
   "metadata": {},
   "outputs": [
    {
     "name": "stdout",
     "output_type": "stream",
     "text": [
      "[[ 0  4  8]\n",
      " [ 1  5  9]\n",
      " [ 2  6 10]\n",
      " [ 3  7 11]]\n"
     ]
    }
   ],
   "source": [
    "transposed = reshaped.T\n",
    "print(transposed)"
   ]
  },
  {
   "cell_type": "markdown",
   "id": "428799bc-c248-496c-8af7-34681db6a802",
   "metadata": {},
   "source": [
    "# 1.1 Indexing & Slicing\n",
    "**Problem**: How do we access elements in arrays?\n",
    "\n",
    "**Explanation**: \n",
    "\n",
    "- **Indexing**: Use row & column positions.\n",
    "- **Slicing**: Extract sub-arrays with `[start:end:step]`.\n",
    "- **Fancy Indexing**: Select multiple positions at once.\n",
    "- **Boolean Indexing**: Filter based on conditions."
   ]
  },
  {
   "cell_type": "code",
   "execution_count": 14,
   "id": "b9415b2c-7eab-463a-b7cf-642cf0fdfb20",
   "metadata": {},
   "outputs": [
    {
     "name": "stdout",
     "output_type": "stream",
     "text": [
      "Element at (1,2):  60\n"
     ]
    }
   ],
   "source": [
    "arr = np.array([[10, 20, 30], [40, 50, 60], [70, 80, 90]])\n",
    "print(\"Element at (1,2): \", arr[1, 2])"
   ]
  },
  {
   "cell_type": "code",
   "execution_count": 15,
   "id": "b546944e-ce0c-4bf8-aba0-29b40520ce04",
   "metadata": {},
   "outputs": [
    {
     "name": "stdout",
     "output_type": "stream",
     "text": [
      "First two rows:\n",
      " [[10 20 30]\n",
      " [40 50 60]]\n"
     ]
    }
   ],
   "source": [
    "print(\"First two rows:\\n\", arr[:2])"
   ]
  },
  {
   "cell_type": "code",
   "execution_count": 20,
   "id": "9d231ec4-26bb-4814-87f7-ca9efa624f61",
   "metadata": {},
   "outputs": [
    {
     "name": "stdout",
     "output_type": "stream",
     "text": [
      "Last column:  [30 60 90]\n"
     ]
    }
   ],
   "source": [
    "print(\"Last column: \", arr[:, -1])"
   ]
  },
  {
   "cell_type": "code",
   "execution_count": null,
   "id": "48bcd88e-d982-44f4-8cbc-790496e72bdf",
   "metadata": {},
   "outputs": [],
   "source": []
  },
  {
   "cell_type": "code",
   "execution_count": 21,
   "id": "dc93234b-cddd-4354-a61c-ca5f13dac528",
   "metadata": {},
   "outputs": [
    {
     "name": "stdout",
     "output_type": "stream",
     "text": [
      "Elements at (0, 0), (1, 1), (2, 2):  [10 50 90]\n"
     ]
    }
   ],
   "source": [
    "print(\"Elements at (0, 0), (1, 1), (2, 2): \", arr[[0, 1, 2], [0, 1, 2]])"
   ]
  },
  {
   "cell_type": "code",
   "execution_count": 22,
   "id": "2ff06881-9505-4bb8-9916-063e1e9ef87a",
   "metadata": {},
   "outputs": [
    {
     "name": "stdout",
     "output_type": "stream",
     "text": [
      "Values > 50:  [60 70 80 90]\n"
     ]
    }
   ],
   "source": [
    "print(\"Values > 50: \", arr[arr > 50])"
   ]
  },
  {
   "cell_type": "markdown",
   "id": "f406f36e-2ced-4e59-b847-99918db14de2",
   "metadata": {},
   "source": [
    "# 1.1 Generate Arrays with `arange` and `linspace`\n",
    "**Problem**: How do we create sequences of numbers?\n",
    "\n",
    "**Explanation**:\n",
    "\n",
    "- `arange[start, stop, step]`: like Python range but returns an array.\n",
    "- `linspace(start, stop, num)`: evenly spaced numbers."
   ]
  },
  {
   "cell_type": "code",
   "execution_count": 23,
   "id": "cc3954a7-c99d-4974-9c1e-69e642128720",
   "metadata": {},
   "outputs": [
    {
     "name": "stdout",
     "output_type": "stream",
     "text": [
      "arange(0, 10, 2):  [0 2 4 6 8]\n"
     ]
    }
   ],
   "source": [
    "print(\"arange(0, 10, 2): \", np.arange(0, 10, 2))"
   ]
  },
  {
   "cell_type": "code",
   "execution_count": 24,
   "id": "0857fb3e-17c2-49ea-8bfb-a1460e6a22a3",
   "metadata": {},
   "outputs": [
    {
     "name": "stdout",
     "output_type": "stream",
     "text": [
      "linspace(0, 1, 5):  [0.   0.25 0.5  0.75 1.  ]\n"
     ]
    }
   ],
   "source": [
    "print(\"linspace(0, 1, 5): \", np.linspace(0, 1, 5))"
   ]
  }
 ],
 "metadata": {
  "kernelspec": {
   "display_name": "Python 3 (ipykernel)",
   "language": "python",
   "name": "python3"
  },
  "language_info": {
   "codemirror_mode": {
    "name": "ipython",
    "version": 3
   },
   "file_extension": ".py",
   "mimetype": "text/x-python",
   "name": "python",
   "nbconvert_exporter": "python",
   "pygments_lexer": "ipython3",
   "version": "3.13.7"
  }
 },
 "nbformat": 4,
 "nbformat_minor": 5
}
